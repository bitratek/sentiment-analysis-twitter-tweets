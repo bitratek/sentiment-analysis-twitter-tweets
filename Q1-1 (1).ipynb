{
  "cells": [
    {
      "cell_type": "markdown",
      "id": "ee1a0bbd",
      "metadata": {
        "id": "ee1a0bbd"
      },
      "source": [
        "# Question No.1. NLP Dataset: \n",
        "## Sentiment Analysis dataset - 1.6 Million tweets. "
      ]
    },
    {
      "cell_type": "code",
      "execution_count": null,
      "id": "46309bdf",
      "metadata": {
        "id": "46309bdf"
      },
      "outputs": [],
      "source": [
        ""
      ]
    },
    {
      "cell_type": "code",
      "source": [
        "# mount drive\n",
        "from google.colab import drive\n",
        "drive.mount('/content/drive/') "
      ],
      "metadata": {
        "colab": {
          "base_uri": "https://localhost:8080/"
        },
        "id": "BWVcTnpCTa6v",
        "outputId": "7b7defef-0bb7-4b17-d74e-cc8df6fe7c01"
      },
      "id": "BWVcTnpCTa6v",
      "execution_count": 3,
      "outputs": [
        {
          "output_type": "stream",
          "name": "stdout",
          "text": [
            "Mounted at /content/drive/\n"
          ]
        }
      ]
    },
    {
      "cell_type": "markdown",
      "id": "df5b0faa",
      "metadata": {
        "id": "df5b0faa"
      },
      "source": [
        "## 1. Import Libraries/Dataset (0 mark)\n",
        "1. Import the required libraries and the dataset (use Google Drive if required).\n",
        "2. Check the GPU available (recommended- use free GPU provided by Google Colab).\n"
      ]
    },
    {
      "cell_type": "code",
      "execution_count": 1,
      "id": "596ef107",
      "metadata": {
        "colab": {
          "base_uri": "https://localhost:8080/"
        },
        "id": "596ef107",
        "outputId": "2292b029-a6ff-4f97-e0c2-f21e2cb27b77"
      },
      "outputs": [
        {
          "output_type": "stream",
          "name": "stdout",
          "text": [
            "Random state is 1\n"
          ]
        }
      ],
      "source": [
        "import numpy as np\n",
        "import pandas as pd\n",
        "import matplotlib.pyplot as plt\n",
        "import seaborn as sns\n",
        "import os\n",
        "\n",
        "from sklearn.model_selection import train_test_split\n",
        "from sklearn.metrics import classification_report\n",
        "\n",
        "import tensorflow as tf\n",
        "import tensorflow_hub as hub\n",
        "from tensorflow.keras import regularizers, models, layers\n",
        "\n",
        "# random state\n",
        "RS = np.random.randint(100)\n",
        "print(f'Random state is {RS}')\n",
        "\n",
        "# ignore warnings\n",
        "import warnings\n",
        "warnings.filterwarnings('ignore')"
      ]
    },
    {
      "cell_type": "code",
      "execution_count": 2,
      "id": "ae497046",
      "metadata": {
        "colab": {
          "base_uri": "https://localhost:8080/"
        },
        "id": "ae497046",
        "outputId": "b0c18319-6b67-4dcd-a9b7-34afd878706c"
      },
      "outputs": [
        {
          "output_type": "stream",
          "name": "stdout",
          "text": [
            "datafile is /content/drive/MyDrive/sem3/DL/a1/training.1600000.processed.noemoticon.csv\n"
          ]
        }
      ],
      "source": [
        "# global variables\n",
        "FILE='training.1600000.processed.noemoticon.csv'\n",
        "# FOLDER='.' # local\n",
        "FOLDER='/content/drive/MyDrive/sem3/DL/a1/' # drive\n",
        "DATAFILE=os.path.join(FOLDER, FILE)\n",
        "DATA_COLS=['target','ids','date','flag','user','text']\n",
        "X_COL = ['text']\n",
        "Y_COL = ['target']\n",
        "\n",
        "print(f'datafile is {DATAFILE}')\n"
      ]
    },
    {
      "cell_type": "code",
      "execution_count": 3,
      "id": "ce6fcd9d",
      "metadata": {
        "colab": {
          "base_uri": "https://localhost:8080/",
          "height": 161
        },
        "id": "ce6fcd9d",
        "outputId": "e1392ab2-377a-4148-fd93-2096594f4237"
      },
      "outputs": [
        {
          "output_type": "stream",
          "name": "stdout",
          "text": [
            "(1600000, 6)\n"
          ]
        },
        {
          "output_type": "execute_result",
          "data": {
            "text/plain": [
              "   target         ids                          date      flag  \\\n",
              "0       0  1467810369  Mon Apr 06 22:19:45 PDT 2009  NO_QUERY   \n",
              "1       0  1467810672  Mon Apr 06 22:19:49 PDT 2009  NO_QUERY   \n",
              "2       0  1467810917  Mon Apr 06 22:19:53 PDT 2009  NO_QUERY   \n",
              "\n",
              "              user                                               text  \n",
              "0  _TheSpecialOne_  @switchfoot http://twitpic.com/2y1zl - Awww, t...  \n",
              "1    scotthamilton  is upset that he can't update his Facebook by ...  \n",
              "2         mattycus  @Kenichan I dived many times for the ball. Man...  "
            ],
            "text/html": [
              "\n",
              "  <div id=\"df-c1e28f60-047a-4be5-828a-c0dc462cc10e\">\n",
              "    <div class=\"colab-df-container\">\n",
              "      <div>\n",
              "<style scoped>\n",
              "    .dataframe tbody tr th:only-of-type {\n",
              "        vertical-align: middle;\n",
              "    }\n",
              "\n",
              "    .dataframe tbody tr th {\n",
              "        vertical-align: top;\n",
              "    }\n",
              "\n",
              "    .dataframe thead th {\n",
              "        text-align: right;\n",
              "    }\n",
              "</style>\n",
              "<table border=\"1\" class=\"dataframe\">\n",
              "  <thead>\n",
              "    <tr style=\"text-align: right;\">\n",
              "      <th></th>\n",
              "      <th>target</th>\n",
              "      <th>ids</th>\n",
              "      <th>date</th>\n",
              "      <th>flag</th>\n",
              "      <th>user</th>\n",
              "      <th>text</th>\n",
              "    </tr>\n",
              "  </thead>\n",
              "  <tbody>\n",
              "    <tr>\n",
              "      <th>0</th>\n",
              "      <td>0</td>\n",
              "      <td>1467810369</td>\n",
              "      <td>Mon Apr 06 22:19:45 PDT 2009</td>\n",
              "      <td>NO_QUERY</td>\n",
              "      <td>_TheSpecialOne_</td>\n",
              "      <td>@switchfoot http://twitpic.com/2y1zl - Awww, t...</td>\n",
              "    </tr>\n",
              "    <tr>\n",
              "      <th>1</th>\n",
              "      <td>0</td>\n",
              "      <td>1467810672</td>\n",
              "      <td>Mon Apr 06 22:19:49 PDT 2009</td>\n",
              "      <td>NO_QUERY</td>\n",
              "      <td>scotthamilton</td>\n",
              "      <td>is upset that he can't update his Facebook by ...</td>\n",
              "    </tr>\n",
              "    <tr>\n",
              "      <th>2</th>\n",
              "      <td>0</td>\n",
              "      <td>1467810917</td>\n",
              "      <td>Mon Apr 06 22:19:53 PDT 2009</td>\n",
              "      <td>NO_QUERY</td>\n",
              "      <td>mattycus</td>\n",
              "      <td>@Kenichan I dived many times for the ball. Man...</td>\n",
              "    </tr>\n",
              "  </tbody>\n",
              "</table>\n",
              "</div>\n",
              "      <button class=\"colab-df-convert\" onclick=\"convertToInteractive('df-c1e28f60-047a-4be5-828a-c0dc462cc10e')\"\n",
              "              title=\"Convert this dataframe to an interactive table.\"\n",
              "              style=\"display:none;\">\n",
              "        \n",
              "  <svg xmlns=\"http://www.w3.org/2000/svg\" height=\"24px\"viewBox=\"0 0 24 24\"\n",
              "       width=\"24px\">\n",
              "    <path d=\"M0 0h24v24H0V0z\" fill=\"none\"/>\n",
              "    <path d=\"M18.56 5.44l.94 2.06.94-2.06 2.06-.94-2.06-.94-.94-2.06-.94 2.06-2.06.94zm-11 1L8.5 8.5l.94-2.06 2.06-.94-2.06-.94L8.5 2.5l-.94 2.06-2.06.94zm10 10l.94 2.06.94-2.06 2.06-.94-2.06-.94-.94-2.06-.94 2.06-2.06.94z\"/><path d=\"M17.41 7.96l-1.37-1.37c-.4-.4-.92-.59-1.43-.59-.52 0-1.04.2-1.43.59L10.3 9.45l-7.72 7.72c-.78.78-.78 2.05 0 2.83L4 21.41c.39.39.9.59 1.41.59.51 0 1.02-.2 1.41-.59l7.78-7.78 2.81-2.81c.8-.78.8-2.07 0-2.86zM5.41 20L4 18.59l7.72-7.72 1.47 1.35L5.41 20z\"/>\n",
              "  </svg>\n",
              "      </button>\n",
              "      \n",
              "  <style>\n",
              "    .colab-df-container {\n",
              "      display:flex;\n",
              "      flex-wrap:wrap;\n",
              "      gap: 12px;\n",
              "    }\n",
              "\n",
              "    .colab-df-convert {\n",
              "      background-color: #E8F0FE;\n",
              "      border: none;\n",
              "      border-radius: 50%;\n",
              "      cursor: pointer;\n",
              "      display: none;\n",
              "      fill: #1967D2;\n",
              "      height: 32px;\n",
              "      padding: 0 0 0 0;\n",
              "      width: 32px;\n",
              "    }\n",
              "\n",
              "    .colab-df-convert:hover {\n",
              "      background-color: #E2EBFA;\n",
              "      box-shadow: 0px 1px 2px rgba(60, 64, 67, 0.3), 0px 1px 3px 1px rgba(60, 64, 67, 0.15);\n",
              "      fill: #174EA6;\n",
              "    }\n",
              "\n",
              "    [theme=dark] .colab-df-convert {\n",
              "      background-color: #3B4455;\n",
              "      fill: #D2E3FC;\n",
              "    }\n",
              "\n",
              "    [theme=dark] .colab-df-convert:hover {\n",
              "      background-color: #434B5C;\n",
              "      box-shadow: 0px 1px 3px 1px rgba(0, 0, 0, 0.15);\n",
              "      filter: drop-shadow(0px 1px 2px rgba(0, 0, 0, 0.3));\n",
              "      fill: #FFFFFF;\n",
              "    }\n",
              "  </style>\n",
              "\n",
              "      <script>\n",
              "        const buttonEl =\n",
              "          document.querySelector('#df-c1e28f60-047a-4be5-828a-c0dc462cc10e button.colab-df-convert');\n",
              "        buttonEl.style.display =\n",
              "          google.colab.kernel.accessAllowed ? 'block' : 'none';\n",
              "\n",
              "        async function convertToInteractive(key) {\n",
              "          const element = document.querySelector('#df-c1e28f60-047a-4be5-828a-c0dc462cc10e');\n",
              "          const dataTable =\n",
              "            await google.colab.kernel.invokeFunction('convertToInteractive',\n",
              "                                                     [key], {});\n",
              "          if (!dataTable) return;\n",
              "\n",
              "          const docLinkHtml = 'Like what you see? Visit the ' +\n",
              "            '<a target=\"_blank\" href=https://colab.research.google.com/notebooks/data_table.ipynb>data table notebook</a>'\n",
              "            + ' to learn more about interactive tables.';\n",
              "          element.innerHTML = '';\n",
              "          dataTable['output_type'] = 'display_data';\n",
              "          await google.colab.output.renderOutput(dataTable, element);\n",
              "          const docLink = document.createElement('div');\n",
              "          docLink.innerHTML = docLinkHtml;\n",
              "          element.appendChild(docLink);\n",
              "        }\n",
              "      </script>\n",
              "    </div>\n",
              "  </div>\n",
              "  "
            ]
          },
          "metadata": {},
          "execution_count": 3
        }
      ],
      "source": [
        "# import the dataset\n",
        "df = pd.read_csv(DATAFILE, names=DATA_COLS, encoding='latin-1')\n",
        "print(df.shape)\n",
        "df.head(3)"
      ]
    },
    {
      "cell_type": "code",
      "execution_count": null,
      "id": "a2694265",
      "metadata": {
        "colab": {
          "base_uri": "https://localhost:8080/",
          "height": 143
        },
        "id": "a2694265",
        "outputId": "daa481c0-8e58-4dcf-a367-791b03176ffb"
      },
      "outputs": [
        {
          "output_type": "execute_result",
          "data": {
            "text/plain": [
              "         target         ids                          date      flag  \\\n",
              "1599997       4  2193601991  Tue Jun 16 08:40:49 PDT 2009  NO_QUERY   \n",
              "1599998       4  2193602064  Tue Jun 16 08:40:49 PDT 2009  NO_QUERY   \n",
              "1599999       4  2193602129  Tue Jun 16 08:40:50 PDT 2009  NO_QUERY   \n",
              "\n",
              "                   user                                               text  \n",
              "1599997          bpbabe  Are you ready for your MoJo Makeover? Ask me f...  \n",
              "1599998    tinydiamondz  Happy 38th Birthday to my boo of alll time!!! ...  \n",
              "1599999  RyanTrevMorris  happy #charitytuesday @theNSPCC @SparksCharity...  "
            ],
            "text/html": [
              "\n",
              "  <div id=\"df-35e38218-6591-4ad0-b141-0baade1288da\">\n",
              "    <div class=\"colab-df-container\">\n",
              "      <div>\n",
              "<style scoped>\n",
              "    .dataframe tbody tr th:only-of-type {\n",
              "        vertical-align: middle;\n",
              "    }\n",
              "\n",
              "    .dataframe tbody tr th {\n",
              "        vertical-align: top;\n",
              "    }\n",
              "\n",
              "    .dataframe thead th {\n",
              "        text-align: right;\n",
              "    }\n",
              "</style>\n",
              "<table border=\"1\" class=\"dataframe\">\n",
              "  <thead>\n",
              "    <tr style=\"text-align: right;\">\n",
              "      <th></th>\n",
              "      <th>target</th>\n",
              "      <th>ids</th>\n",
              "      <th>date</th>\n",
              "      <th>flag</th>\n",
              "      <th>user</th>\n",
              "      <th>text</th>\n",
              "    </tr>\n",
              "  </thead>\n",
              "  <tbody>\n",
              "    <tr>\n",
              "      <th>1599997</th>\n",
              "      <td>4</td>\n",
              "      <td>2193601991</td>\n",
              "      <td>Tue Jun 16 08:40:49 PDT 2009</td>\n",
              "      <td>NO_QUERY</td>\n",
              "      <td>bpbabe</td>\n",
              "      <td>Are you ready for your MoJo Makeover? Ask me f...</td>\n",
              "    </tr>\n",
              "    <tr>\n",
              "      <th>1599998</th>\n",
              "      <td>4</td>\n",
              "      <td>2193602064</td>\n",
              "      <td>Tue Jun 16 08:40:49 PDT 2009</td>\n",
              "      <td>NO_QUERY</td>\n",
              "      <td>tinydiamondz</td>\n",
              "      <td>Happy 38th Birthday to my boo of alll time!!! ...</td>\n",
              "    </tr>\n",
              "    <tr>\n",
              "      <th>1599999</th>\n",
              "      <td>4</td>\n",
              "      <td>2193602129</td>\n",
              "      <td>Tue Jun 16 08:40:50 PDT 2009</td>\n",
              "      <td>NO_QUERY</td>\n",
              "      <td>RyanTrevMorris</td>\n",
              "      <td>happy #charitytuesday @theNSPCC @SparksCharity...</td>\n",
              "    </tr>\n",
              "  </tbody>\n",
              "</table>\n",
              "</div>\n",
              "      <button class=\"colab-df-convert\" onclick=\"convertToInteractive('df-35e38218-6591-4ad0-b141-0baade1288da')\"\n",
              "              title=\"Convert this dataframe to an interactive table.\"\n",
              "              style=\"display:none;\">\n",
              "        \n",
              "  <svg xmlns=\"http://www.w3.org/2000/svg\" height=\"24px\"viewBox=\"0 0 24 24\"\n",
              "       width=\"24px\">\n",
              "    <path d=\"M0 0h24v24H0V0z\" fill=\"none\"/>\n",
              "    <path d=\"M18.56 5.44l.94 2.06.94-2.06 2.06-.94-2.06-.94-.94-2.06-.94 2.06-2.06.94zm-11 1L8.5 8.5l.94-2.06 2.06-.94-2.06-.94L8.5 2.5l-.94 2.06-2.06.94zm10 10l.94 2.06.94-2.06 2.06-.94-2.06-.94-.94-2.06-.94 2.06-2.06.94z\"/><path d=\"M17.41 7.96l-1.37-1.37c-.4-.4-.92-.59-1.43-.59-.52 0-1.04.2-1.43.59L10.3 9.45l-7.72 7.72c-.78.78-.78 2.05 0 2.83L4 21.41c.39.39.9.59 1.41.59.51 0 1.02-.2 1.41-.59l7.78-7.78 2.81-2.81c.8-.78.8-2.07 0-2.86zM5.41 20L4 18.59l7.72-7.72 1.47 1.35L5.41 20z\"/>\n",
              "  </svg>\n",
              "      </button>\n",
              "      \n",
              "  <style>\n",
              "    .colab-df-container {\n",
              "      display:flex;\n",
              "      flex-wrap:wrap;\n",
              "      gap: 12px;\n",
              "    }\n",
              "\n",
              "    .colab-df-convert {\n",
              "      background-color: #E8F0FE;\n",
              "      border: none;\n",
              "      border-radius: 50%;\n",
              "      cursor: pointer;\n",
              "      display: none;\n",
              "      fill: #1967D2;\n",
              "      height: 32px;\n",
              "      padding: 0 0 0 0;\n",
              "      width: 32px;\n",
              "    }\n",
              "\n",
              "    .colab-df-convert:hover {\n",
              "      background-color: #E2EBFA;\n",
              "      box-shadow: 0px 1px 2px rgba(60, 64, 67, 0.3), 0px 1px 3px 1px rgba(60, 64, 67, 0.15);\n",
              "      fill: #174EA6;\n",
              "    }\n",
              "\n",
              "    [theme=dark] .colab-df-convert {\n",
              "      background-color: #3B4455;\n",
              "      fill: #D2E3FC;\n",
              "    }\n",
              "\n",
              "    [theme=dark] .colab-df-convert:hover {\n",
              "      background-color: #434B5C;\n",
              "      box-shadow: 0px 1px 3px 1px rgba(0, 0, 0, 0.15);\n",
              "      filter: drop-shadow(0px 1px 2px rgba(0, 0, 0, 0.3));\n",
              "      fill: #FFFFFF;\n",
              "    }\n",
              "  </style>\n",
              "\n",
              "      <script>\n",
              "        const buttonEl =\n",
              "          document.querySelector('#df-35e38218-6591-4ad0-b141-0baade1288da button.colab-df-convert');\n",
              "        buttonEl.style.display =\n",
              "          google.colab.kernel.accessAllowed ? 'block' : 'none';\n",
              "\n",
              "        async function convertToInteractive(key) {\n",
              "          const element = document.querySelector('#df-35e38218-6591-4ad0-b141-0baade1288da');\n",
              "          const dataTable =\n",
              "            await google.colab.kernel.invokeFunction('convertToInteractive',\n",
              "                                                     [key], {});\n",
              "          if (!dataTable) return;\n",
              "\n",
              "          const docLinkHtml = 'Like what you see? Visit the ' +\n",
              "            '<a target=\"_blank\" href=https://colab.research.google.com/notebooks/data_table.ipynb>data table notebook</a>'\n",
              "            + ' to learn more about interactive tables.';\n",
              "          element.innerHTML = '';\n",
              "          dataTable['output_type'] = 'display_data';\n",
              "          await google.colab.output.renderOutput(dataTable, element);\n",
              "          const docLink = document.createElement('div');\n",
              "          docLink.innerHTML = docLinkHtml;\n",
              "          element.appendChild(docLink);\n",
              "        }\n",
              "      </script>\n",
              "    </div>\n",
              "  </div>\n",
              "  "
            ]
          },
          "metadata": {},
          "execution_count": 6
        }
      ],
      "source": [
        "df.tail(3)"
      ]
    },
    {
      "cell_type": "code",
      "source": [
        "# in target col, change value 4 to 1, so its classification between 0 and 1\n",
        "df['target'] = df['target'].replace([4],[1])\n"
      ],
      "metadata": {
        "id": "a4ybck89zs4E"
      },
      "id": "a4ybck89zs4E",
      "execution_count": 4,
      "outputs": []
    },
    {
      "cell_type": "code",
      "execution_count": null,
      "id": "103ce67d",
      "metadata": {
        "id": "103ce67d"
      },
      "outputs": [],
      "source": [
        ""
      ]
    },
    {
      "cell_type": "code",
      "execution_count": null,
      "id": "6d319a04",
      "metadata": {
        "id": "6d319a04"
      },
      "outputs": [],
      "source": [
        ""
      ]
    },
    {
      "cell_type": "markdown",
      "id": "354eb510",
      "metadata": {
        "id": "354eb510"
      },
      "source": [
        "## 2. Data Visualization (0.75 mark)\n",
        "1. Print at least two records from each class of the dataset, for a sanity check that labels match the text.\n",
        "2. Plot a bar graph of class distribution in the dataset. Each bar depicts the number of records belonging to a particular class in the dataset. (recommended - matplotlib/seaborn libraries)\n",
        "3. Any other visualizations that seem appropriate for this problem are encouraged but not necessary, for the points.\n",
        "4. Print the shapes of train and test data."
      ]
    },
    {
      "cell_type": "code",
      "source": [
        "df['target'].value_counts()"
      ],
      "metadata": {
        "colab": {
          "base_uri": "https://localhost:8080/"
        },
        "id": "5w3CQoa9zwAi",
        "outputId": "d39246c4-7c6e-4f14-fee7-6a007b6e413c"
      },
      "id": "5w3CQoa9zwAi",
      "execution_count": null,
      "outputs": [
        {
          "output_type": "execute_result",
          "data": {
            "text/plain": [
              "0    800000\n",
              "1    800000\n",
              "Name: target, dtype: int64"
            ]
          },
          "metadata": {},
          "execution_count": 8
        }
      ]
    },
    {
      "cell_type": "code",
      "execution_count": null,
      "id": "6589a7b9",
      "metadata": {
        "colab": {
          "base_uri": "https://localhost:8080/",
          "height": 175
        },
        "id": "6589a7b9",
        "outputId": "6c5f6be0-80b2-4bb1-d003-c80a36fe211e"
      },
      "outputs": [
        {
          "output_type": "execute_result",
          "data": {
            "text/plain": [
              "   target         ids                          date      flag  \\\n",
              "0       0  1467810369  Mon Apr 06 22:19:45 PDT 2009  NO_QUERY   \n",
              "1       0  1467810672  Mon Apr 06 22:19:49 PDT 2009  NO_QUERY   \n",
              "2       0  1467810917  Mon Apr 06 22:19:53 PDT 2009  NO_QUERY   \n",
              "3       0  1467811184  Mon Apr 06 22:19:57 PDT 2009  NO_QUERY   \n",
              "\n",
              "              user                                               text  \n",
              "0  _TheSpecialOne_  @switchfoot http://twitpic.com/2y1zl - Awww, t...  \n",
              "1    scotthamilton  is upset that he can't update his Facebook by ...  \n",
              "2         mattycus  @Kenichan I dived many times for the ball. Man...  \n",
              "3          ElleCTF    my whole body feels itchy and like its on fire   "
            ],
            "text/html": [
              "\n",
              "  <div id=\"df-05ed2d1a-0835-44b8-b897-11249d5a3400\">\n",
              "    <div class=\"colab-df-container\">\n",
              "      <div>\n",
              "<style scoped>\n",
              "    .dataframe tbody tr th:only-of-type {\n",
              "        vertical-align: middle;\n",
              "    }\n",
              "\n",
              "    .dataframe tbody tr th {\n",
              "        vertical-align: top;\n",
              "    }\n",
              "\n",
              "    .dataframe thead th {\n",
              "        text-align: right;\n",
              "    }\n",
              "</style>\n",
              "<table border=\"1\" class=\"dataframe\">\n",
              "  <thead>\n",
              "    <tr style=\"text-align: right;\">\n",
              "      <th></th>\n",
              "      <th>target</th>\n",
              "      <th>ids</th>\n",
              "      <th>date</th>\n",
              "      <th>flag</th>\n",
              "      <th>user</th>\n",
              "      <th>text</th>\n",
              "    </tr>\n",
              "  </thead>\n",
              "  <tbody>\n",
              "    <tr>\n",
              "      <th>0</th>\n",
              "      <td>0</td>\n",
              "      <td>1467810369</td>\n",
              "      <td>Mon Apr 06 22:19:45 PDT 2009</td>\n",
              "      <td>NO_QUERY</td>\n",
              "      <td>_TheSpecialOne_</td>\n",
              "      <td>@switchfoot http://twitpic.com/2y1zl - Awww, t...</td>\n",
              "    </tr>\n",
              "    <tr>\n",
              "      <th>1</th>\n",
              "      <td>0</td>\n",
              "      <td>1467810672</td>\n",
              "      <td>Mon Apr 06 22:19:49 PDT 2009</td>\n",
              "      <td>NO_QUERY</td>\n",
              "      <td>scotthamilton</td>\n",
              "      <td>is upset that he can't update his Facebook by ...</td>\n",
              "    </tr>\n",
              "    <tr>\n",
              "      <th>2</th>\n",
              "      <td>0</td>\n",
              "      <td>1467810917</td>\n",
              "      <td>Mon Apr 06 22:19:53 PDT 2009</td>\n",
              "      <td>NO_QUERY</td>\n",
              "      <td>mattycus</td>\n",
              "      <td>@Kenichan I dived many times for the ball. Man...</td>\n",
              "    </tr>\n",
              "    <tr>\n",
              "      <th>3</th>\n",
              "      <td>0</td>\n",
              "      <td>1467811184</td>\n",
              "      <td>Mon Apr 06 22:19:57 PDT 2009</td>\n",
              "      <td>NO_QUERY</td>\n",
              "      <td>ElleCTF</td>\n",
              "      <td>my whole body feels itchy and like its on fire</td>\n",
              "    </tr>\n",
              "  </tbody>\n",
              "</table>\n",
              "</div>\n",
              "      <button class=\"colab-df-convert\" onclick=\"convertToInteractive('df-05ed2d1a-0835-44b8-b897-11249d5a3400')\"\n",
              "              title=\"Convert this dataframe to an interactive table.\"\n",
              "              style=\"display:none;\">\n",
              "        \n",
              "  <svg xmlns=\"http://www.w3.org/2000/svg\" height=\"24px\"viewBox=\"0 0 24 24\"\n",
              "       width=\"24px\">\n",
              "    <path d=\"M0 0h24v24H0V0z\" fill=\"none\"/>\n",
              "    <path d=\"M18.56 5.44l.94 2.06.94-2.06 2.06-.94-2.06-.94-.94-2.06-.94 2.06-2.06.94zm-11 1L8.5 8.5l.94-2.06 2.06-.94-2.06-.94L8.5 2.5l-.94 2.06-2.06.94zm10 10l.94 2.06.94-2.06 2.06-.94-2.06-.94-.94-2.06-.94 2.06-2.06.94z\"/><path d=\"M17.41 7.96l-1.37-1.37c-.4-.4-.92-.59-1.43-.59-.52 0-1.04.2-1.43.59L10.3 9.45l-7.72 7.72c-.78.78-.78 2.05 0 2.83L4 21.41c.39.39.9.59 1.41.59.51 0 1.02-.2 1.41-.59l7.78-7.78 2.81-2.81c.8-.78.8-2.07 0-2.86zM5.41 20L4 18.59l7.72-7.72 1.47 1.35L5.41 20z\"/>\n",
              "  </svg>\n",
              "      </button>\n",
              "      \n",
              "  <style>\n",
              "    .colab-df-container {\n",
              "      display:flex;\n",
              "      flex-wrap:wrap;\n",
              "      gap: 12px;\n",
              "    }\n",
              "\n",
              "    .colab-df-convert {\n",
              "      background-color: #E8F0FE;\n",
              "      border: none;\n",
              "      border-radius: 50%;\n",
              "      cursor: pointer;\n",
              "      display: none;\n",
              "      fill: #1967D2;\n",
              "      height: 32px;\n",
              "      padding: 0 0 0 0;\n",
              "      width: 32px;\n",
              "    }\n",
              "\n",
              "    .colab-df-convert:hover {\n",
              "      background-color: #E2EBFA;\n",
              "      box-shadow: 0px 1px 2px rgba(60, 64, 67, 0.3), 0px 1px 3px 1px rgba(60, 64, 67, 0.15);\n",
              "      fill: #174EA6;\n",
              "    }\n",
              "\n",
              "    [theme=dark] .colab-df-convert {\n",
              "      background-color: #3B4455;\n",
              "      fill: #D2E3FC;\n",
              "    }\n",
              "\n",
              "    [theme=dark] .colab-df-convert:hover {\n",
              "      background-color: #434B5C;\n",
              "      box-shadow: 0px 1px 3px 1px rgba(0, 0, 0, 0.15);\n",
              "      filter: drop-shadow(0px 1px 2px rgba(0, 0, 0, 0.3));\n",
              "      fill: #FFFFFF;\n",
              "    }\n",
              "  </style>\n",
              "\n",
              "      <script>\n",
              "        const buttonEl =\n",
              "          document.querySelector('#df-05ed2d1a-0835-44b8-b897-11249d5a3400 button.colab-df-convert');\n",
              "        buttonEl.style.display =\n",
              "          google.colab.kernel.accessAllowed ? 'block' : 'none';\n",
              "\n",
              "        async function convertToInteractive(key) {\n",
              "          const element = document.querySelector('#df-05ed2d1a-0835-44b8-b897-11249d5a3400');\n",
              "          const dataTable =\n",
              "            await google.colab.kernel.invokeFunction('convertToInteractive',\n",
              "                                                     [key], {});\n",
              "          if (!dataTable) return;\n",
              "\n",
              "          const docLinkHtml = 'Like what you see? Visit the ' +\n",
              "            '<a target=\"_blank\" href=https://colab.research.google.com/notebooks/data_table.ipynb>data table notebook</a>'\n",
              "            + ' to learn more about interactive tables.';\n",
              "          element.innerHTML = '';\n",
              "          dataTable['output_type'] = 'display_data';\n",
              "          await google.colab.output.renderOutput(dataTable, element);\n",
              "          const docLink = document.createElement('div');\n",
              "          docLink.innerHTML = docLinkHtml;\n",
              "          element.appendChild(docLink);\n",
              "        }\n",
              "      </script>\n",
              "    </div>\n",
              "  </div>\n",
              "  "
            ]
          },
          "metadata": {},
          "execution_count": 9
        }
      ],
      "source": [
        "df.head(4)"
      ]
    },
    {
      "cell_type": "markdown",
      "id": "04d7207e",
      "metadata": {
        "id": "04d7207e"
      },
      "source": [
        "**1. Print at least two records from each class of the dataset, for a sanity check that labels match the text.**"
      ]
    },
    {
      "cell_type": "code",
      "execution_count": null,
      "id": "cbb0d4d3",
      "metadata": {
        "colab": {
          "base_uri": "https://localhost:8080/",
          "height": 206
        },
        "id": "cbb0d4d3",
        "outputId": "8c3c9025-0fdc-4ec5-f709-da140ad35284"
      },
      "outputs": [
        {
          "output_type": "execute_result",
          "data": {
            "text/plain": [
              "   target         ids                          date      flag  \\\n",
              "0       0  1467810369  Mon Apr 06 22:19:45 PDT 2009  NO_QUERY   \n",
              "1       0  1467810672  Mon Apr 06 22:19:49 PDT 2009  NO_QUERY   \n",
              "2       0  1467810917  Mon Apr 06 22:19:53 PDT 2009  NO_QUERY   \n",
              "3       0  1467811184  Mon Apr 06 22:19:57 PDT 2009  NO_QUERY   \n",
              "4       0  1467811193  Mon Apr 06 22:19:57 PDT 2009  NO_QUERY   \n",
              "\n",
              "              user                                               text  \n",
              "0  _TheSpecialOne_  @switchfoot http://twitpic.com/2y1zl - Awww, t...  \n",
              "1    scotthamilton  is upset that he can't update his Facebook by ...  \n",
              "2         mattycus  @Kenichan I dived many times for the ball. Man...  \n",
              "3          ElleCTF    my whole body feels itchy and like its on fire   \n",
              "4           Karoli  @nationwideclass no, it's not behaving at all....  "
            ],
            "text/html": [
              "\n",
              "  <div id=\"df-9456a358-5668-4b59-89f6-add806302999\">\n",
              "    <div class=\"colab-df-container\">\n",
              "      <div>\n",
              "<style scoped>\n",
              "    .dataframe tbody tr th:only-of-type {\n",
              "        vertical-align: middle;\n",
              "    }\n",
              "\n",
              "    .dataframe tbody tr th {\n",
              "        vertical-align: top;\n",
              "    }\n",
              "\n",
              "    .dataframe thead th {\n",
              "        text-align: right;\n",
              "    }\n",
              "</style>\n",
              "<table border=\"1\" class=\"dataframe\">\n",
              "  <thead>\n",
              "    <tr style=\"text-align: right;\">\n",
              "      <th></th>\n",
              "      <th>target</th>\n",
              "      <th>ids</th>\n",
              "      <th>date</th>\n",
              "      <th>flag</th>\n",
              "      <th>user</th>\n",
              "      <th>text</th>\n",
              "    </tr>\n",
              "  </thead>\n",
              "  <tbody>\n",
              "    <tr>\n",
              "      <th>0</th>\n",
              "      <td>0</td>\n",
              "      <td>1467810369</td>\n",
              "      <td>Mon Apr 06 22:19:45 PDT 2009</td>\n",
              "      <td>NO_QUERY</td>\n",
              "      <td>_TheSpecialOne_</td>\n",
              "      <td>@switchfoot http://twitpic.com/2y1zl - Awww, t...</td>\n",
              "    </tr>\n",
              "    <tr>\n",
              "      <th>1</th>\n",
              "      <td>0</td>\n",
              "      <td>1467810672</td>\n",
              "      <td>Mon Apr 06 22:19:49 PDT 2009</td>\n",
              "      <td>NO_QUERY</td>\n",
              "      <td>scotthamilton</td>\n",
              "      <td>is upset that he can't update his Facebook by ...</td>\n",
              "    </tr>\n",
              "    <tr>\n",
              "      <th>2</th>\n",
              "      <td>0</td>\n",
              "      <td>1467810917</td>\n",
              "      <td>Mon Apr 06 22:19:53 PDT 2009</td>\n",
              "      <td>NO_QUERY</td>\n",
              "      <td>mattycus</td>\n",
              "      <td>@Kenichan I dived many times for the ball. Man...</td>\n",
              "    </tr>\n",
              "    <tr>\n",
              "      <th>3</th>\n",
              "      <td>0</td>\n",
              "      <td>1467811184</td>\n",
              "      <td>Mon Apr 06 22:19:57 PDT 2009</td>\n",
              "      <td>NO_QUERY</td>\n",
              "      <td>ElleCTF</td>\n",
              "      <td>my whole body feels itchy and like its on fire</td>\n",
              "    </tr>\n",
              "    <tr>\n",
              "      <th>4</th>\n",
              "      <td>0</td>\n",
              "      <td>1467811193</td>\n",
              "      <td>Mon Apr 06 22:19:57 PDT 2009</td>\n",
              "      <td>NO_QUERY</td>\n",
              "      <td>Karoli</td>\n",
              "      <td>@nationwideclass no, it's not behaving at all....</td>\n",
              "    </tr>\n",
              "  </tbody>\n",
              "</table>\n",
              "</div>\n",
              "      <button class=\"colab-df-convert\" onclick=\"convertToInteractive('df-9456a358-5668-4b59-89f6-add806302999')\"\n",
              "              title=\"Convert this dataframe to an interactive table.\"\n",
              "              style=\"display:none;\">\n",
              "        \n",
              "  <svg xmlns=\"http://www.w3.org/2000/svg\" height=\"24px\"viewBox=\"0 0 24 24\"\n",
              "       width=\"24px\">\n",
              "    <path d=\"M0 0h24v24H0V0z\" fill=\"none\"/>\n",
              "    <path d=\"M18.56 5.44l.94 2.06.94-2.06 2.06-.94-2.06-.94-.94-2.06-.94 2.06-2.06.94zm-11 1L8.5 8.5l.94-2.06 2.06-.94-2.06-.94L8.5 2.5l-.94 2.06-2.06.94zm10 10l.94 2.06.94-2.06 2.06-.94-2.06-.94-.94-2.06-.94 2.06-2.06.94z\"/><path d=\"M17.41 7.96l-1.37-1.37c-.4-.4-.92-.59-1.43-.59-.52 0-1.04.2-1.43.59L10.3 9.45l-7.72 7.72c-.78.78-.78 2.05 0 2.83L4 21.41c.39.39.9.59 1.41.59.51 0 1.02-.2 1.41-.59l7.78-7.78 2.81-2.81c.8-.78.8-2.07 0-2.86zM5.41 20L4 18.59l7.72-7.72 1.47 1.35L5.41 20z\"/>\n",
              "  </svg>\n",
              "      </button>\n",
              "      \n",
              "  <style>\n",
              "    .colab-df-container {\n",
              "      display:flex;\n",
              "      flex-wrap:wrap;\n",
              "      gap: 12px;\n",
              "    }\n",
              "\n",
              "    .colab-df-convert {\n",
              "      background-color: #E8F0FE;\n",
              "      border: none;\n",
              "      border-radius: 50%;\n",
              "      cursor: pointer;\n",
              "      display: none;\n",
              "      fill: #1967D2;\n",
              "      height: 32px;\n",
              "      padding: 0 0 0 0;\n",
              "      width: 32px;\n",
              "    }\n",
              "\n",
              "    .colab-df-convert:hover {\n",
              "      background-color: #E2EBFA;\n",
              "      box-shadow: 0px 1px 2px rgba(60, 64, 67, 0.3), 0px 1px 3px 1px rgba(60, 64, 67, 0.15);\n",
              "      fill: #174EA6;\n",
              "    }\n",
              "\n",
              "    [theme=dark] .colab-df-convert {\n",
              "      background-color: #3B4455;\n",
              "      fill: #D2E3FC;\n",
              "    }\n",
              "\n",
              "    [theme=dark] .colab-df-convert:hover {\n",
              "      background-color: #434B5C;\n",
              "      box-shadow: 0px 1px 3px 1px rgba(0, 0, 0, 0.15);\n",
              "      filter: drop-shadow(0px 1px 2px rgba(0, 0, 0, 0.3));\n",
              "      fill: #FFFFFF;\n",
              "    }\n",
              "  </style>\n",
              "\n",
              "      <script>\n",
              "        const buttonEl =\n",
              "          document.querySelector('#df-9456a358-5668-4b59-89f6-add806302999 button.colab-df-convert');\n",
              "        buttonEl.style.display =\n",
              "          google.colab.kernel.accessAllowed ? 'block' : 'none';\n",
              "\n",
              "        async function convertToInteractive(key) {\n",
              "          const element = document.querySelector('#df-9456a358-5668-4b59-89f6-add806302999');\n",
              "          const dataTable =\n",
              "            await google.colab.kernel.invokeFunction('convertToInteractive',\n",
              "                                                     [key], {});\n",
              "          if (!dataTable) return;\n",
              "\n",
              "          const docLinkHtml = 'Like what you see? Visit the ' +\n",
              "            '<a target=\"_blank\" href=https://colab.research.google.com/notebooks/data_table.ipynb>data table notebook</a>'\n",
              "            + ' to learn more about interactive tables.';\n",
              "          element.innerHTML = '';\n",
              "          dataTable['output_type'] = 'display_data';\n",
              "          await google.colab.output.renderOutput(dataTable, element);\n",
              "          const docLink = document.createElement('div');\n",
              "          docLink.innerHTML = docLinkHtml;\n",
              "          element.appendChild(docLink);\n",
              "        }\n",
              "      </script>\n",
              "    </div>\n",
              "  </div>\n",
              "  "
            ]
          },
          "metadata": {},
          "execution_count": 9
        }
      ],
      "source": [
        "# target 0\n",
        "df[df['target']==0].head(5)\n"
      ]
    },
    {
      "cell_type": "code",
      "execution_count": null,
      "id": "bd385f34",
      "metadata": {
        "colab": {
          "base_uri": "https://localhost:8080/",
          "height": 206
        },
        "id": "bd385f34",
        "outputId": "b85ef341-36d4-4098-9ee7-89e52e0ba245"
      },
      "outputs": [
        {
          "output_type": "execute_result",
          "data": {
            "text/plain": [
              "        target         ids                          date      flag  \\\n",
              "800000       1  1467822272  Mon Apr 06 22:22:45 PDT 2009  NO_QUERY   \n",
              "800001       1  1467822273  Mon Apr 06 22:22:45 PDT 2009  NO_QUERY   \n",
              "800002       1  1467822283  Mon Apr 06 22:22:46 PDT 2009  NO_QUERY   \n",
              "800003       1  1467822287  Mon Apr 06 22:22:46 PDT 2009  NO_QUERY   \n",
              "800004       1  1467822293  Mon Apr 06 22:22:46 PDT 2009  NO_QUERY   \n",
              "\n",
              "               user                                               text  \n",
              "800000        ersle       I LOVE @Health4UandPets u guys r the best!!   \n",
              "800001     becca210  im meeting up with one of my besties tonight! ...  \n",
              "800002    Wingman29  @DaRealSunisaKim Thanks for the Twitter add, S...  \n",
              "800003    katarinka  Being sick can be really cheap when it hurts t...  \n",
              "800004  _EmilyYoung    @LovesBrooklyn2 he has that effect on everyone   "
            ],
            "text/html": [
              "\n",
              "  <div id=\"df-cd496a05-81e2-4904-a427-996189186687\">\n",
              "    <div class=\"colab-df-container\">\n",
              "      <div>\n",
              "<style scoped>\n",
              "    .dataframe tbody tr th:only-of-type {\n",
              "        vertical-align: middle;\n",
              "    }\n",
              "\n",
              "    .dataframe tbody tr th {\n",
              "        vertical-align: top;\n",
              "    }\n",
              "\n",
              "    .dataframe thead th {\n",
              "        text-align: right;\n",
              "    }\n",
              "</style>\n",
              "<table border=\"1\" class=\"dataframe\">\n",
              "  <thead>\n",
              "    <tr style=\"text-align: right;\">\n",
              "      <th></th>\n",
              "      <th>target</th>\n",
              "      <th>ids</th>\n",
              "      <th>date</th>\n",
              "      <th>flag</th>\n",
              "      <th>user</th>\n",
              "      <th>text</th>\n",
              "    </tr>\n",
              "  </thead>\n",
              "  <tbody>\n",
              "    <tr>\n",
              "      <th>800000</th>\n",
              "      <td>1</td>\n",
              "      <td>1467822272</td>\n",
              "      <td>Mon Apr 06 22:22:45 PDT 2009</td>\n",
              "      <td>NO_QUERY</td>\n",
              "      <td>ersle</td>\n",
              "      <td>I LOVE @Health4UandPets u guys r the best!!</td>\n",
              "    </tr>\n",
              "    <tr>\n",
              "      <th>800001</th>\n",
              "      <td>1</td>\n",
              "      <td>1467822273</td>\n",
              "      <td>Mon Apr 06 22:22:45 PDT 2009</td>\n",
              "      <td>NO_QUERY</td>\n",
              "      <td>becca210</td>\n",
              "      <td>im meeting up with one of my besties tonight! ...</td>\n",
              "    </tr>\n",
              "    <tr>\n",
              "      <th>800002</th>\n",
              "      <td>1</td>\n",
              "      <td>1467822283</td>\n",
              "      <td>Mon Apr 06 22:22:46 PDT 2009</td>\n",
              "      <td>NO_QUERY</td>\n",
              "      <td>Wingman29</td>\n",
              "      <td>@DaRealSunisaKim Thanks for the Twitter add, S...</td>\n",
              "    </tr>\n",
              "    <tr>\n",
              "      <th>800003</th>\n",
              "      <td>1</td>\n",
              "      <td>1467822287</td>\n",
              "      <td>Mon Apr 06 22:22:46 PDT 2009</td>\n",
              "      <td>NO_QUERY</td>\n",
              "      <td>katarinka</td>\n",
              "      <td>Being sick can be really cheap when it hurts t...</td>\n",
              "    </tr>\n",
              "    <tr>\n",
              "      <th>800004</th>\n",
              "      <td>1</td>\n",
              "      <td>1467822293</td>\n",
              "      <td>Mon Apr 06 22:22:46 PDT 2009</td>\n",
              "      <td>NO_QUERY</td>\n",
              "      <td>_EmilyYoung</td>\n",
              "      <td>@LovesBrooklyn2 he has that effect on everyone</td>\n",
              "    </tr>\n",
              "  </tbody>\n",
              "</table>\n",
              "</div>\n",
              "      <button class=\"colab-df-convert\" onclick=\"convertToInteractive('df-cd496a05-81e2-4904-a427-996189186687')\"\n",
              "              title=\"Convert this dataframe to an interactive table.\"\n",
              "              style=\"display:none;\">\n",
              "        \n",
              "  <svg xmlns=\"http://www.w3.org/2000/svg\" height=\"24px\"viewBox=\"0 0 24 24\"\n",
              "       width=\"24px\">\n",
              "    <path d=\"M0 0h24v24H0V0z\" fill=\"none\"/>\n",
              "    <path d=\"M18.56 5.44l.94 2.06.94-2.06 2.06-.94-2.06-.94-.94-2.06-.94 2.06-2.06.94zm-11 1L8.5 8.5l.94-2.06 2.06-.94-2.06-.94L8.5 2.5l-.94 2.06-2.06.94zm10 10l.94 2.06.94-2.06 2.06-.94-2.06-.94-.94-2.06-.94 2.06-2.06.94z\"/><path d=\"M17.41 7.96l-1.37-1.37c-.4-.4-.92-.59-1.43-.59-.52 0-1.04.2-1.43.59L10.3 9.45l-7.72 7.72c-.78.78-.78 2.05 0 2.83L4 21.41c.39.39.9.59 1.41.59.51 0 1.02-.2 1.41-.59l7.78-7.78 2.81-2.81c.8-.78.8-2.07 0-2.86zM5.41 20L4 18.59l7.72-7.72 1.47 1.35L5.41 20z\"/>\n",
              "  </svg>\n",
              "      </button>\n",
              "      \n",
              "  <style>\n",
              "    .colab-df-container {\n",
              "      display:flex;\n",
              "      flex-wrap:wrap;\n",
              "      gap: 12px;\n",
              "    }\n",
              "\n",
              "    .colab-df-convert {\n",
              "      background-color: #E8F0FE;\n",
              "      border: none;\n",
              "      border-radius: 50%;\n",
              "      cursor: pointer;\n",
              "      display: none;\n",
              "      fill: #1967D2;\n",
              "      height: 32px;\n",
              "      padding: 0 0 0 0;\n",
              "      width: 32px;\n",
              "    }\n",
              "\n",
              "    .colab-df-convert:hover {\n",
              "      background-color: #E2EBFA;\n",
              "      box-shadow: 0px 1px 2px rgba(60, 64, 67, 0.3), 0px 1px 3px 1px rgba(60, 64, 67, 0.15);\n",
              "      fill: #174EA6;\n",
              "    }\n",
              "\n",
              "    [theme=dark] .colab-df-convert {\n",
              "      background-color: #3B4455;\n",
              "      fill: #D2E3FC;\n",
              "    }\n",
              "\n",
              "    [theme=dark] .colab-df-convert:hover {\n",
              "      background-color: #434B5C;\n",
              "      box-shadow: 0px 1px 3px 1px rgba(0, 0, 0, 0.15);\n",
              "      filter: drop-shadow(0px 1px 2px rgba(0, 0, 0, 0.3));\n",
              "      fill: #FFFFFF;\n",
              "    }\n",
              "  </style>\n",
              "\n",
              "      <script>\n",
              "        const buttonEl =\n",
              "          document.querySelector('#df-cd496a05-81e2-4904-a427-996189186687 button.colab-df-convert');\n",
              "        buttonEl.style.display =\n",
              "          google.colab.kernel.accessAllowed ? 'block' : 'none';\n",
              "\n",
              "        async function convertToInteractive(key) {\n",
              "          const element = document.querySelector('#df-cd496a05-81e2-4904-a427-996189186687');\n",
              "          const dataTable =\n",
              "            await google.colab.kernel.invokeFunction('convertToInteractive',\n",
              "                                                     [key], {});\n",
              "          if (!dataTable) return;\n",
              "\n",
              "          const docLinkHtml = 'Like what you see? Visit the ' +\n",
              "            '<a target=\"_blank\" href=https://colab.research.google.com/notebooks/data_table.ipynb>data table notebook</a>'\n",
              "            + ' to learn more about interactive tables.';\n",
              "          element.innerHTML = '';\n",
              "          dataTable['output_type'] = 'display_data';\n",
              "          await google.colab.output.renderOutput(dataTable, element);\n",
              "          const docLink = document.createElement('div');\n",
              "          docLink.innerHTML = docLinkHtml;\n",
              "          element.appendChild(docLink);\n",
              "        }\n",
              "      </script>\n",
              "    </div>\n",
              "  </div>\n",
              "  "
            ]
          },
          "metadata": {},
          "execution_count": 8
        }
      ],
      "source": [
        "# target 1 i.e. previously 4\n",
        "df[df['target']==1].head(5)"
      ]
    },
    {
      "cell_type": "code",
      "source": [
        ""
      ],
      "metadata": {
        "id": "Ep3gGkXbzAKT"
      },
      "id": "Ep3gGkXbzAKT",
      "execution_count": null,
      "outputs": []
    },
    {
      "cell_type": "code",
      "source": [
        ""
      ],
      "metadata": {
        "id": "yvSoA0ISzACg"
      },
      "id": "yvSoA0ISzACg",
      "execution_count": null,
      "outputs": []
    },
    {
      "cell_type": "markdown",
      "id": "67772423",
      "metadata": {
        "id": "67772423"
      },
      "source": [
        "**2. Plot a bar graph of class distribution in the dataset. Each bar depicts the number of records belonging to a particular class in the dataset. (recommended - matplotlib/seaborn libraries)**"
      ]
    },
    {
      "cell_type": "code",
      "execution_count": null,
      "id": "1c5e8972",
      "metadata": {
        "id": "1c5e8972"
      },
      "outputs": [],
      "source": [
        ""
      ]
    },
    {
      "cell_type": "code",
      "execution_count": 5,
      "id": "78c28f27",
      "metadata": {
        "colab": {
          "base_uri": "https://localhost:8080/",
          "height": 614
        },
        "id": "78c28f27",
        "outputId": "6479f91e-042b-4370-8bec-518201cfa622"
      },
      "outputs": [
        {
          "output_type": "stream",
          "name": "stdout",
          "text": [
            "\n",
            "Target distribution plot using Matplotlib\n"
          ]
        },
        {
          "output_type": "display_data",
          "data": {
            "text/plain": [
              "<Figure size 432x288 with 1 Axes>"
            ],
            "image/png": "[encoded data removed]"
          },
          "metadata": {
            "needs_background": "light"
          }
        },
        {
          "output_type": "stream",
          "name": "stdout",
          "text": [
            "------------------------------\n",
            "\n",
            "Target distribution plot using seaborn\n"
          ]
        },
        {
          "output_type": "display_data",
          "data": {
            "text/plain": [
              "<Figure size 432x288 with 1 Axes>"
            ],
            "image/png": "[encoded data removed]"
          },
          "metadata": {
            "needs_background": "light"
          }
        }
      ],
      "source": [
        "# matplotlib\n",
        "print('\\nTarget distribution plot using Matplotlib')\n",
        "df['target'].value_counts().plot(kind='barh')\n",
        "plt.show()\n",
        "\n",
        "# seaborn\n",
        "print(f'{\"-\"*30}')\n",
        "print('\\nTarget distribution plot using seaborn')\n",
        "sns.countplot(df['target'])\n",
        "plt.show()\n"
      ]
    },
    {
      "cell_type": "code",
      "execution_count": null,
      "id": "6474b02a",
      "metadata": {
        "id": "6474b02a"
      },
      "outputs": [],
      "source": [
        ""
      ]
    },
    {
      "cell_type": "code",
      "execution_count": null,
      "id": "e4180bfd",
      "metadata": {
        "id": "e4180bfd"
      },
      "outputs": [],
      "source": [
        ""
      ]
    },
    {
      "cell_type": "markdown",
      "id": "4123a63d",
      "metadata": {
        "id": "4123a63d"
      },
      "source": [
        "**3. Any other visualizations that seem appropriate for this problem are encouraged but not necessary, for the points.**"
      ]
    },
    {
      "cell_type": "code",
      "execution_count": null,
      "id": "a2bb2d14",
      "metadata": {
        "id": "a2bb2d14"
      },
      "outputs": [],
      "source": [
        ""
      ]
    },
    {
      "cell_type": "code",
      "execution_count": null,
      "id": "ada765f5",
      "metadata": {
        "id": "ada765f5"
      },
      "outputs": [],
      "source": [
        ""
      ]
    },
    {
      "cell_type": "code",
      "execution_count": null,
      "id": "6bf7ca4d",
      "metadata": {
        "id": "6bf7ca4d"
      },
      "outputs": [],
      "source": [
        ""
      ]
    },
    {
      "cell_type": "code",
      "execution_count": null,
      "id": "f1fb6b08",
      "metadata": {
        "id": "f1fb6b08"
      },
      "outputs": [],
      "source": [
        ""
      ]
    },
    {
      "cell_type": "markdown",
      "id": "ba2cc515",
      "metadata": {
        "id": "ba2cc515"
      },
      "source": [
        "**4. Print the shapes of train and test data.**"
      ]
    },
    {
      "cell_type": "code",
      "execution_count": 6,
      "id": "f6663a5b",
      "metadata": {
        "colab": {
          "base_uri": "https://localhost:8080/"
        },
        "id": "f6663a5b",
        "outputId": "3f0fb7c0-6ce6-499f-8d9c-fbabe2c5090f"
      },
      "outputs": [
        {
          "output_type": "stream",
          "name": "stdout",
          "text": [
            "Shape of X is (1600000, 1)\n",
            "Shape of Y is (1600000, 1)\n"
          ]
        }
      ],
      "source": [
        "X = df[X_COL]\n",
        "y = df[Y_COL]\n",
        "\n",
        "print(f'Shape of X is {X.shape}')\n",
        "print(f'Shape of Y is {y.shape}')"
      ]
    },
    {
      "cell_type": "code",
      "execution_count": null,
      "id": "8ab740b9",
      "metadata": {
        "id": "8ab740b9"
      },
      "outputs": [],
      "source": [
        ""
      ]
    },
    {
      "cell_type": "code",
      "execution_count": 7,
      "id": "588854f9",
      "metadata": {
        "id": "588854f9",
        "colab": {
          "base_uri": "https://localhost:8080/"
        },
        "outputId": "afcdc969-58de-42e2-e83b-eeab6144e2b6"
      },
      "outputs": [
        {
          "output_type": "execute_result",
          "data": {
            "text/plain": [
              "((1280000,), (320000,), (1280000,), (320000,))"
            ]
          },
          "metadata": {},
          "execution_count": 7
        }
      ],
      "source": [
        "# perform train test split\n",
        "# X_train, X_test, Y_train, Y_test = train_test_split(X, Y, test_size=0.2, random_state=RS)\n",
        "X_train, X_test, y_train, y_test = train_test_split(np.array(X).flatten(),np.array(y).flatten(), test_size=0.2, random_state=RS, stratify=y)\n",
        "\n",
        "# print shape\n",
        "X_train.shape, X_test.shape, y_train.shape, y_test.shape"
      ]
    },
    {
      "cell_type": "code",
      "execution_count": 8,
      "id": "0f7d5f4d",
      "metadata": {
        "id": "0f7d5f4d",
        "colab": {
          "base_uri": "https://localhost:8080/"
        },
        "outputId": "671977a4-2e96-49ac-e835-bdf610dcc72c"
      },
      "outputs": [
        {
          "output_type": "stream",
          "name": "stdout",
          "text": [
            "Shape of Train data is (1280000,)\n",
            "Shape of Test data is (320000,)\n"
          ]
        }
      ],
      "source": [
        "print(f'Shape of Train data is {X_train.shape}')\n",
        "print(f'Shape of Test data is {X_test.shape}')"
      ]
    },
    {
      "cell_type": "code",
      "source": [
        "train_dataset = tf.data.Dataset.from_tensor_slices((X_train, y_train))\n",
        "test_dataset = tf.data.Dataset.from_tensor_slices((X_test, y_test))"
      ],
      "metadata": {
        "id": "a-XLXZCGJVdS"
      },
      "id": "a-XLXZCGJVdS",
      "execution_count": 9,
      "outputs": []
    },
    {
      "cell_type": "code",
      "source": [
        "train_examples_batch, train_labels_batch = next(iter(train_dataset.batch(10)))\n",
        "train_examples_batch"
      ],
      "metadata": {
        "colab": {
          "base_uri": "https://localhost:8080/"
        },
        "id": "ONqH9ai1JVUk",
        "outputId": "7e45e179-ac62-4f91-83a8-876762a40898"
      },
      "id": "ONqH9ai1JVUk",
      "execution_count": 10,
      "outputs": [
        {
          "output_type": "execute_result",
          "data": {
            "text/plain": [
              "<tf.Tensor: shape=(10,), dtype=string, numpy=\n",
              "array([b\"Rise and shining lol. I'm up a few mins later then planned but no rush i'll be out the door in time \",\n",
              "       b\"Had a 2nd interview today. It's looking promising. \",\n",
              "       b'@EmilyAlbracht I feel your pain! ',\n",
              "       b'http://twitpic.com/6sdbj - 4yr old son and I went exploring &amp; hiking today and this is what we found  Luv amphibians!',\n",
              "       b'is lonely because all my housemates have gone to the pub ',\n",
              "       b'@tinaseamonster It must be that they just seemed like that belong there and not strange or unexpected...kind of like your suggested! ',\n",
              "       b'@jonas_twilight3 ',\n",
              "       b'@mynameischerie hey girl, i am now following you ',\n",
              "       b\"@govinda108 um that's really scary, please be safe!  Btw ill be in orlando next week \",\n",
              "       b'feeling a little under the weather...   Thank God tomorrow is FRIDAY!!!!'],\n",
              "      dtype=object)>"
            ]
          },
          "metadata": {},
          "execution_count": 10
        }
      ]
    },
    {
      "cell_type": "code",
      "source": [
        ""
      ],
      "metadata": {
        "id": "DT5XS9TsJVLz"
      },
      "id": "DT5XS9TsJVLz",
      "execution_count": null,
      "outputs": []
    },
    {
      "cell_type": "code",
      "execution_count": null,
      "id": "5072a2bd",
      "metadata": {
        "id": "5072a2bd"
      },
      "outputs": [],
      "source": [
        ""
      ]
    },
    {
      "cell_type": "markdown",
      "source": [
        "## 3. Data Pre-processing (0.25 mark)\n",
        "1. Need for this Step- Since the models we use cannot accept string inputs or cannot be of the string format. We have to come up with a way of handling this step. The discussion of different ways of handling this step is out of the scope of this assignment.\n",
        "2. Please usethis pre-trained embedding layer  (Links to an external site.)\n",
        "3.  (Links to an external site.) (Links to an external site.)\n",
        "from TensorFlow hub for this assignment. This link also has a code snippet on how to convert a sentence to a vector. Refer to that for further clarity on this subject.\n",
        "4. Bring the train and test data in the required format."
      ],
      "metadata": {
        "id": "XSh4TEhAIefE"
      },
      "id": "XSh4TEhAIefE"
    },
    {
      "cell_type": "markdown",
      "source": [
        "**Embedding layer**\n",
        "\n",
        "We created a hub layer which we will add as first layer of model. "
      ],
      "metadata": {
        "id": "B2jSYvnHJkK0"
      },
      "id": "B2jSYvnHJkK0"
    },
    {
      "cell_type": "code",
      "source": [
        "embedding = \"https://tfhub.dev/google/nnlm-en-dim128/2\"\n",
        "hub_layer = hub.KerasLayer(embedding, input_shape=[], dtype=tf.string, trainable=True)"
      ],
      "metadata": {
        "id": "gv33M0NmIe38"
      },
      "id": "gv33M0NmIe38",
      "execution_count": 11,
      "outputs": []
    },
    {
      "cell_type": "code",
      "source": [
        ""
      ],
      "metadata": {
        "id": "uElbg8uAIiFV"
      },
      "id": "uElbg8uAIiFV",
      "execution_count": null,
      "outputs": []
    },
    {
      "cell_type": "code",
      "source": [
        ""
      ],
      "metadata": {
        "id": "iwb6m81_IiBQ"
      },
      "id": "iwb6m81_IiBQ",
      "execution_count": null,
      "outputs": []
    },
    {
      "cell_type": "markdown",
      "source": [
        "## 4. Model Building (0.2*5 = 1 mark)\n",
        "1. Sequential Model layers- Use AT LEAST 5 hidden layers with appropriate input for each. Choose the best number for hidden units and give reasons.\n",
        "2. Add L2 regularization to all the layers.\n",
        "3. Add one layer of dropout at the appropriate position and give reasons.\n",
        "4. Use relu as activation function at all appropriate layers.\n",
        "5. Print the model summary."
      ],
      "metadata": {
        "id": "EcsYYWpjJ_Dp"
      },
      "id": "EcsYYWpjJ_Dp"
    },
    {
      "cell_type": "markdown",
      "source": [
        "**MODEL**"
      ],
      "metadata": {
        "id": "Q4a5EiqdLRx0"
      },
      "id": "Q4a5EiqdLRx0"
    },
    {
      "cell_type": "code",
      "source": [
        "# function for model building\n",
        "def Model_build(units=32):\n",
        "  model = tf.keras.Sequential()\n",
        "  # layer 1 = input layer\n",
        "  model.add(hub_layer)\n",
        "  # layer 2 = hidden layer1 \n",
        "  model.add(tf.keras.layers.Dense(16*units, activation='relu',kernel_regularizer=regularizers.l2(0.01)))\n",
        "  # layer 3 = dropout layer\n",
        "  model.add(tf.keras.layers.Dropout(0.5))\n",
        "  # layer 4 = hidden layer2\n",
        "  model.add(tf.keras.layers.Dense(8*units, activation='relu',kernel_regularizer=regularizers.l2(0.01)))\n",
        "  # layer 5 = hidden layer3\n",
        "  model.add(tf.keras.layers.Dense(4*units, activation='relu',kernel_regularizer=regularizers.l2(0.01)))\n",
        "  # layer 6 = hidden layer4\n",
        "  model.add(tf.keras.layers.Dense(2*units, activation='relu',kernel_regularizer=regularizers.l2(0.01)))\n",
        "  # layer 7 = hidden layer5\n",
        "  model.add(tf.keras.layers.Dense(units, activation='relu',kernel_regularizer=regularizers.l2(0.01)))\n",
        "  # layer 8 = hidden layer6\n",
        "  model.add(tf.keras.layers.Dense(1,activation='sigmoid'))\n",
        "  # model build\n",
        "  model.build()\n",
        "  #print(model.summary())\n",
        "  return model\n"
      ],
      "metadata": {
        "id": "ie8RjL9HIh8P"
      },
      "id": "ie8RjL9HIh8P",
      "execution_count": 12,
      "outputs": []
    },
    {
      "cell_type": "code",
      "source": [
        "# model build\n",
        "first_model=Model_build(16)\n",
        "print(first_model.summary())"
      ],
      "metadata": {
        "colab": {
          "base_uri": "https://localhost:8080/"
        },
        "id": "fmp607_8Ih2r",
        "outputId": "41e0df98-a585-4f6d-c664-d10941fedcca"
      },
      "id": "fmp607_8Ih2r",
      "execution_count": 13,
      "outputs": [
        {
          "output_type": "stream",
          "name": "stdout",
          "text": [
            "Model: \"sequential\"\n",
            "_________________________________________________________________\n",
            " Layer (type)                Output Shape              Param #   \n",
            "=================================================================\n",
            " keras_layer (KerasLayer)    (None, 128)               124642688 \n",
            "                                                                 \n",
            " dense (Dense)               (None, 256)               33024     \n",
            "                                                                 \n",
            " dropout (Dropout)           (None, 256)               0         \n",
            "                                                                 \n",
            " dense_1 (Dense)             (None, 128)               32896     \n",
            "                                                                 \n",
            " dense_2 (Dense)             (None, 64)                8256      \n",
            "                                                                 \n",
            " dense_3 (Dense)             (None, 32)                2080      \n",
            "                                                                 \n",
            " dense_4 (Dense)             (None, 16)                528       \n",
            "                                                                 \n",
            " dense_5 (Dense)             (None, 1)                 17        \n",
            "                                                                 \n",
            "=================================================================\n",
            "Total params: 124,719,489\n",
            "Trainable params: 124,719,489\n",
            "Non-trainable params: 0\n",
            "_________________________________________________________________\n",
            "None\n"
          ]
        }
      ]
    },
    {
      "cell_type": "code",
      "source": [
        ""
      ],
      "metadata": {
        "id": "YeMqKVk5Ihyc"
      },
      "id": "YeMqKVk5Ihyc",
      "execution_count": null,
      "outputs": []
    },
    {
      "cell_type": "markdown",
      "source": [
        "## 5. Model Compilation (0.25 mark)\n",
        "1. Compile the model with the appropriate loss function.\n",
        "2. Use an appropriate optimizer. Give reasons for the choice of learning rate and its value.\n",
        "3. Use accuracy as a metric.\n"
      ],
      "metadata": {
        "id": "6zlBPWiAMUrb"
      },
      "id": "6zlBPWiAMUrb"
    },
    {
      "cell_type": "markdown",
      "source": [
        "**It is considered that the ideal Learning Rate for Adam optimizer is .001**"
      ],
      "metadata": {
        "id": "APYt4mnpMaI2"
      },
      "id": "APYt4mnpMaI2"
    },
    {
      "cell_type": "code",
      "source": [
        "# adam optimizer with learning rate=0.01\n",
        "optimizer = tf.keras.optimizers.Adam(lr=0.001)\n",
        "\n",
        "# model compilation\n",
        "first_model.compile(optimizer=optimizer,\n",
        "              loss=tf.keras.losses.BinaryCrossentropy(from_logits=True),\n",
        "              # loss=\"binary_crossentropy\",\n",
        "              metrics=['accuracy'])\n"
      ],
      "metadata": {
        "id": "WvzH8FJBIht1"
      },
      "id": "WvzH8FJBIht1",
      "execution_count": 14,
      "outputs": []
    },
    {
      "cell_type": "code",
      "source": [
        "# adding callback\n",
        "def get_callbacks():\n",
        "  return tf.keras.callbacks.EarlyStopping(monitor='val_loss', patience=3)"
      ],
      "metadata": {
        "id": "UxGS0snNIhqD"
      },
      "id": "UxGS0snNIhqD",
      "execution_count": 15,
      "outputs": []
    },
    {
      "cell_type": "code",
      "source": [
        ""
      ],
      "metadata": {
        "id": "2l5Oxi0aIhk2"
      },
      "id": "2l5Oxi0aIhk2",
      "execution_count": null,
      "outputs": []
    },
    {
      "cell_type": "markdown",
      "source": [
        "## 6. Model Training (0.5 + 0.25 = 0.75 mark)\n",
        "1. Train the model for an appropriate number of epochs. Print the train and validation accuracy and loss for each epoch. Use the appropriate batch size.\n",
        "2. Plot the loss and accuracy history graphs for both train and validation set. Print the total time taken for training."
      ],
      "metadata": {
        "id": "oBmdr6pXMtEb"
      },
      "id": "oBmdr6pXMtEb"
    },
    {
      "cell_type": "markdown",
      "source": [
        "**Train the model for an appropriate number of epochs. Print the train and validation accuracy and loss for each epoch. Use the appropriate batch size.**"
      ],
      "metadata": {
        "id": "8B0_GjjeMvNY"
      },
      "id": "8B0_GjjeMvNY"
    },
    {
      "cell_type": "code",
      "source": [
        "history={}\n",
        "history['first_model'] = first_model.fit(train_dataset.shuffle(10000).batch(512),\n",
        "                    epochs=10,callbacks=get_callbacks(),\n",
        "                    validation_data=test_dataset.batch(512),\n",
        "                    verbose=1)"
      ],
      "metadata": {
        "colab": {
          "base_uri": "https://localhost:8080/"
        },
        "id": "-iMgCfe0IhhH",
        "outputId": "00f4610f-e41e-44d0-d76a-5ee20a247097"
      },
      "id": "-iMgCfe0IhhH",
      "execution_count": 17,
      "outputs": [
        {
          "output_type": "stream",
          "name": "stdout",
          "text": [
            "Epoch 1/10\n",
            "2500/2500 [==============================] - 194s 78ms/step - loss: 0.3644 - accuracy: 0.8759 - val_loss: 0.6419 - val_accuracy: 0.7560\n",
            "Epoch 2/10\n",
            "2500/2500 [==============================] - 192s 77ms/step - loss: 0.3426 - accuracy: 0.8864 - val_loss: 0.6658 - val_accuracy: 0.7514\n",
            "Epoch 3/10\n",
            "2500/2500 [==============================] - 191s 77ms/step - loss: 0.3272 - accuracy: 0.8934 - val_loss: 0.6803 - val_accuracy: 0.7453\n",
            "Epoch 4/10\n",
            "2500/2500 [==============================] - 191s 76ms/step - loss: 0.3151 - accuracy: 0.8986 - val_loss: 0.7117 - val_accuracy: 0.7417\n"
          ]
        }
      ]
    },
    {
      "cell_type": "code",
      "source": [
        ""
      ],
      "metadata": {
        "id": "h7OkyC34IhcL"
      },
      "id": "h7OkyC34IhcL",
      "execution_count": null,
      "outputs": []
    },
    {
      "cell_type": "markdown",
      "source": [
        "**Plot the loss and accuracy history graphs for both train and validation set. Print the total time taken for training.**"
      ],
      "metadata": {
        "id": "_y8o44u9M8O-"
      },
      "id": "_y8o44u9M8O-"
    },
    {
      "cell_type": "code",
      "source": [
        "def plot_loss(history):\n",
        "  plt.plot(history.history['loss'], label='loss')\n",
        "  plt.plot(history.history['val_loss'], label='val_loss')\n",
        "  #plt.ylim([0, 1])\n",
        "  plt.xlabel('Epoch')\n",
        "  plt.ylabel('Error')\n",
        "  plt.legend()\n",
        "  plt.grid(True)\n",
        "  plt.show()\n",
        "\n",
        "def plot_accuracy(history):\n",
        "  plt.plot(history.history['accuracy'], label='accuracy')\n",
        "  plt.plot(history.history['val_accuracy'], label='val_accuracy')\n",
        "  #plt.ylim([0, 1])\n",
        "  plt.xlabel('Epoch')\n",
        "  plt.ylabel('Accuracy')\n",
        "  plt.legend()\n",
        "  plt.grid(True)\n",
        "  plt.show()\n",
        "\n"
      ],
      "metadata": {
        "id": "6M8p6fGuIhYL"
      },
      "id": "6M8p6fGuIhYL",
      "execution_count": 18,
      "outputs": []
    },
    {
      "cell_type": "code",
      "source": [
        "# plot loss\n",
        "plot_loss(history['first_model'])\n",
        "# plot accuracy\n",
        "plot_accuracy(history['first_model'])"
      ],
      "metadata": {
        "colab": {
          "base_uri": "https://localhost:8080/",
          "height": 541
        },
        "id": "v8skHd5NIhTj",
        "outputId": "ff2c48b9-887c-4c26-fe06-8c282c01351a"
      },
      "id": "v8skHd5NIhTj",
      "execution_count": 19,
      "outputs": [
        {
          "output_type": "display_data",
          "data": {
            "text/plain": [
              "<Figure size 432x288 with 1 Axes>"
            ],
            "image/png": "[encoded data removed]"
          },
          "metadata": {
            "needs_background": "light"
          }
        },
        {
          "output_type": "display_data",
          "data": {
            "text/plain": [
              "<Figure size 432x288 with 1 Axes>"
            ],
            "image/png": "[encoded data removed]"
          },
          "metadata": {
            "needs_background": "light"
          }
        }
      ]
    },
    {
      "cell_type": "code",
      "source": [
        ""
      ],
      "metadata": {
        "id": "Vq_wumvNNhmD"
      },
      "id": "Vq_wumvNNhmD",
      "execution_count": null,
      "outputs": []
    },
    {
      "cell_type": "code",
      "source": [
        ""
      ],
      "metadata": {
        "id": "-nMEkuwYNhct"
      },
      "id": "-nMEkuwYNhct",
      "execution_count": null,
      "outputs": []
    },
    {
      "cell_type": "markdown",
      "source": [
        "## 7. Model Evaluation (0.5 + 0.5 = 1 mark)\n",
        "1. Print the final train and validation loss and accuracy. Print confusion matrix and classification report for the validation dataset. Analyse and report the best and worst performing class.\n",
        "2. Print the two most incorrectly classified records for each class in the test dataset."
      ],
      "metadata": {
        "id": "V8LLK-eaNiGw"
      },
      "id": "V8LLK-eaNiGw"
    },
    {
      "cell_type": "markdown",
      "source": [
        "**Print the final train and validation loss and accuracy. Print confusion matrix and classification report for the validation dataset. Analyse and report the best and worst performing class.**"
      ],
      "metadata": {
        "id": "ydYZPMF_Njf6"
      },
      "id": "ydYZPMF_Njf6"
    },
    {
      "cell_type": "code",
      "source": [
        "# final training loss\n",
        "print('final training loss:' ,{history['first_model'].history[\"loss\"][-1]})\n",
        "# final training accuracy\n",
        "print('\\nfinal training accuracy:', {history['first_model'].history[\"accuracy\"][-1]})\n",
        "# final validation loss\n",
        "print('\\nfinal validation loss: ',{history['first_model'].history[\"val_loss\"][-1]})\n",
        "# final validation accuracy\n",
        "print('\\nfinal validation accuracy:', {history['first_model'].history[\"val_accuracy\"][-1]})\n"
      ],
      "metadata": {
        "colab": {
          "base_uri": "https://localhost:8080/"
        },
        "id": "aW5wpxkcIhOb",
        "outputId": "376357df-8825-4f25-f54a-cffd97a542bc"
      },
      "id": "aW5wpxkcIhOb",
      "execution_count": 20,
      "outputs": [
        {
          "output_type": "stream",
          "name": "stdout",
          "text": [
            "final training loss: {0.3150925934314728}\n",
            "\n",
            "final training accuracy: {0.8985671997070312}\n",
            "\n",
            "final validation loss:  {0.7117066979408264}\n",
            "\n",
            "final validation accuracy: {0.7416843771934509}\n"
          ]
        }
      ]
    },
    {
      "cell_type": "code",
      "source": [
        "y_test_arr=tf.convert_to_tensor(y_test)\n",
        "#test_examples_batch, test_labels_batch = next(iter(test_dataset))\n",
        "x_test=tf.convert_to_tensor(X_test)\n",
        "Y_test_pred = first_model.predict(x_test)\n",
        "Y_test_pred=np.array([[1] if p>=0.5 else [0] for p in Y_test_pred])\n",
        "\n",
        "# classification_report\n",
        "print(classification_report(y_test_arr, Y_test_pred))"
      ],
      "metadata": {
        "colab": {
          "base_uri": "https://localhost:8080/"
        },
        "id": "NJ4poBijIhFm",
        "outputId": "e26345bf-5fbf-45b2-c09a-ede6c6c3f367"
      },
      "id": "NJ4poBijIhFm",
      "execution_count": 21,
      "outputs": [
        {
          "output_type": "stream",
          "name": "stdout",
          "text": [
            "              precision    recall  f1-score   support\n",
            "\n",
            "           0       0.75      0.73      0.74    160000\n",
            "           1       0.74      0.75      0.74    160000\n",
            "\n",
            "    accuracy                           0.74    320000\n",
            "   macro avg       0.74      0.74      0.74    320000\n",
            "weighted avg       0.74      0.74      0.74    320000\n",
            "\n"
          ]
        }
      ]
    },
    {
      "cell_type": "code",
      "source": [
        ""
      ],
      "metadata": {
        "id": "AePZpuxhIg9E"
      },
      "id": "AePZpuxhIg9E",
      "execution_count": null,
      "outputs": []
    },
    {
      "cell_type": "markdown",
      "source": [
        "## Hyperameter Tuning"
      ],
      "metadata": {
        "id": "39zRdW6bs7Ql"
      },
      "id": "39zRdW6bs7Ql"
    },
    {
      "cell_type": "markdown",
      "source": [
        "**Model Without Regulaization**"
      ],
      "metadata": {
        "id": "4MiBsNIys_Zd"
      },
      "id": "4MiBsNIys_Zd"
    },
    {
      "cell_type": "code",
      "source": [
        "# function to build model\n",
        "def Model_build_reg(units=32):\n",
        "  # model building\n",
        "  model = tf.keras.Sequential()\n",
        "  #embadding Layer\n",
        "  model.add(hub_layer)\n",
        "  model.add(tf.keras.layers.Dense(16*units, activation='relu'))\n",
        "  model.add(tf.keras.layers.Dropout(0.5))\n",
        "  model.add(tf.keras.layers.Dense(8*units, activation='relu'))\n",
        "  model.add(tf.keras.layers.Dense(4*units, activation='relu'))\n",
        "  model.add(tf.keras.layers.Dense(2*units, activation='relu'))\n",
        "  model.add(tf.keras.layers.Dense(units, activation='relu'))\n",
        "  model.add(tf.keras.layers.Dense(1,activation='sigmoid'))\n",
        "  # model build\n",
        "  model.build()\n",
        "  #print(model.summary())\n",
        "  #learning_rate = hp.Choice('learning_rate', values=[1e-2, 1e-3, 1e-4])\n",
        "  return model"
      ],
      "metadata": {
        "id": "sMWxSHxwIg4H"
      },
      "id": "sMWxSHxwIg4H",
      "execution_count": 22,
      "outputs": []
    },
    {
      "cell_type": "code",
      "source": [
        "# model compile\n",
        "# It is considered that the ideal Learning Rate for Adam optimizer is .001\n",
        "No_reg_model=Model_build_reg(16)\n",
        "No_reg_model.compile(optimizer=tf.keras.optimizers.Adam(lr=0.001),\n",
        "              loss=tf.keras.losses.BinaryCrossentropy(from_logits=True),\n",
        "              metrics=['accuracy'])"
      ],
      "metadata": {
        "id": "3aJzjewpIgzZ"
      },
      "id": "3aJzjewpIgzZ",
      "execution_count": 23,
      "outputs": []
    },
    {
      "cell_type": "code",
      "source": [
        "def get_callbacks():\n",
        "  return tf.keras.callbacks.EarlyStopping(monitor='val_loss', patience=3)\n",
        "   "
      ],
      "metadata": {
        "id": "2OhE6sw7Igu9"
      },
      "id": "2OhE6sw7Igu9",
      "execution_count": 24,
      "outputs": []
    },
    {
      "cell_type": "code",
      "source": [
        "# model training\n",
        "history['No_reg_model'] = No_reg_model.fit(train_dataset.shuffle(10000).batch(512),\n",
        "                    epochs=6,callbacks=get_callbacks(),\n",
        "                    validation_data=test_dataset.batch(512),\n",
        "                    verbose=1)"
      ],
      "metadata": {
        "colab": {
          "base_uri": "https://localhost:8080/"
        },
        "id": "bs6wy4irIgpa",
        "outputId": "e8986d06-ff4d-4c01-89ba-676c029f64e8"
      },
      "id": "bs6wy4irIgpa",
      "execution_count": 25,
      "outputs": [
        {
          "output_type": "stream",
          "name": "stdout",
          "text": [
            "Epoch 1/6\n",
            "2500/2500 [==============================] - 191s 76ms/step - loss: 0.3086 - accuracy: 0.8683 - val_loss: 0.6738 - val_accuracy: 0.7465\n",
            "Epoch 2/6\n",
            "2500/2500 [==============================] - 190s 76ms/step - loss: 0.3033 - accuracy: 0.8697 - val_loss: 0.6689 - val_accuracy: 0.7489\n",
            "Epoch 3/6\n",
            "2500/2500 [==============================] - 191s 77ms/step - loss: 0.2988 - accuracy: 0.8713 - val_loss: 0.6855 - val_accuracy: 0.7505\n",
            "Epoch 4/6\n",
            "2500/2500 [==============================] - 191s 77ms/step - loss: 0.2930 - accuracy: 0.8737 - val_loss: 0.6870 - val_accuracy: 0.7525\n",
            "Epoch 5/6\n",
            "2500/2500 [==============================] - 191s 77ms/step - loss: 0.2892 - accuracy: 0.8757 - val_loss: 0.6961 - val_accuracy: 0.7488\n"
          ]
        }
      ]
    },
    {
      "cell_type": "code",
      "source": [
        "# plot loss\n",
        "plot_loss(history['No_reg_model'])\n",
        "# plot accuracy\n",
        "plot_accuracy(history['No_reg_model'])"
      ],
      "metadata": {
        "colab": {
          "base_uri": "https://localhost:8080/",
          "height": 542
        },
        "id": "RMuuPtqsIgia",
        "outputId": "b74e2548-4209-4bb8-c994-f8038694fb0f"
      },
      "id": "RMuuPtqsIgia",
      "execution_count": 26,
      "outputs": [
        {
          "output_type": "display_data",
          "data": {
            "text/plain": [
              "<Figure size 432x288 with 1 Axes>"
            ],
            "image/png": "[encoded data removed]"
          },
          "metadata": {
            "needs_background": "light"
          }
        },
        {
          "output_type": "display_data",
          "data": {
            "text/plain": [
              "<Figure size 432x288 with 1 Axes>"
            ],
            "image/png": "[encoded data removed]"
          },
          "metadata": {
            "needs_background": "light"
          }
        }
      ]
    },
    {
      "cell_type": "code",
      "source": [
        "# final training loss\n",
        "print('final training loss:' ,{history['No_reg_model'].history[\"loss\"][-1]})\n",
        "# final training accuracy\n",
        "print('\\nfinal training accuracy:', {history['No_reg_model'].history[\"accuracy\"][-1]})\n",
        "# final validation loss\n",
        "print('\\nfinal validation loss: ',{history['No_reg_model'].history[\"val_loss\"][-1]})\n",
        "# final validation accuracy\n",
        "print('\\nfinal validation accuracy:', {history['No_reg_model'].history[\"val_accuracy\"][-1]})\n"
      ],
      "metadata": {
        "colab": {
          "base_uri": "https://localhost:8080/"
        },
        "id": "8l6yzD7uIgfD",
        "outputId": "9c2a03bf-b615-4417-e7cc-7eb1a8109310"
      },
      "id": "8l6yzD7uIgfD",
      "execution_count": 27,
      "outputs": [
        {
          "output_type": "stream",
          "name": "stdout",
          "text": [
            "final training loss: {0.2891734838485718}\n",
            "\n",
            "final training accuracy: {0.8757210969924927}\n",
            "\n",
            "final validation loss:  {0.696084201335907}\n",
            "\n",
            "final validation accuracy: {0.7488406300544739}\n"
          ]
        }
      ]
    },
    {
      "cell_type": "code",
      "source": [
        "Y_test_pred_r = No_reg_model.predict(x_test)\n",
        "Y_test_pred_r=np.array([[1] if p>=0.5 else [0] for p in Y_test_pred_r])\n",
        "\n",
        "#classification_report\n",
        "print(classification_report(y_test_arr, Y_test_pred_r))"
      ],
      "metadata": {
        "colab": {
          "base_uri": "https://localhost:8080/"
        },
        "id": "23fLFn-rIgcW",
        "outputId": "762ffe05-1589-46b2-c263-f207d3ff1dbc"
      },
      "id": "23fLFn-rIgcW",
      "execution_count": 28,
      "outputs": [
        {
          "output_type": "stream",
          "name": "stdout",
          "text": [
            "              precision    recall  f1-score   support\n",
            "\n",
            "           0       0.76      0.73      0.74    160000\n",
            "           1       0.74      0.77      0.75    160000\n",
            "\n",
            "    accuracy                           0.75    320000\n",
            "   macro avg       0.75      0.75      0.75    320000\n",
            "weighted avg       0.75      0.75      0.75    320000\n",
            "\n"
          ]
        }
      ]
    },
    {
      "cell_type": "code",
      "source": [
        ""
      ],
      "metadata": {
        "id": "sWLzXSUrIgZy"
      },
      "id": "sWLzXSUrIgZy",
      "execution_count": null,
      "outputs": []
    },
    {
      "cell_type": "markdown",
      "source": [
        "**Model after changing drop out position and drop out probability**"
      ],
      "metadata": {
        "id": "ye1ag5GFun7b"
      },
      "id": "ye1ag5GFun7b"
    },
    {
      "cell_type": "code",
      "source": [
        " \n",
        "def Model_build_drop(units=32):\n",
        "  # model building\n",
        "  model = tf.keras.Sequential()\n",
        "  #embadding Layer\n",
        "  model.add(hub_layer)\n",
        "  model.add(tf.keras.layers.Dense(16*units, activation='relu',kernel_regularizer=regularizers.l2(0.01)))\n",
        "  model.add(tf.keras.layers.Dense(8*units, activation='relu',kernel_regularizer=regularizers.l2(0.01)))\n",
        "  model.add(tf.keras.layers.Dense(4*units, activation='relu',kernel_regularizer=regularizers.l2(0.01)))\n",
        "  model.add(tf.keras.layers.Dense(2*units, activation='relu',kernel_regularizer=regularizers.l2(0.01)))\n",
        "  model.add(tf.keras.layers.Dense(units, activation='relu',kernel_regularizer=regularizers.l2(0.01)))\n",
        "  model.add(tf.keras.layers.Dropout(0.2))\n",
        "  model.add(tf.keras.layers.Dense(1,activation='sigmoid'))\n",
        "  model.build()\n",
        "  #print(model.summary())\n",
        "  return model\n",
        "\n",
        "# model build\n",
        "drop_model=Model_build_drop(16)\n",
        "drop_model.compile(optimizer=tf.keras.optimizers.Adam(lr=0.001),\n",
        "              loss=tf.keras.losses.BinaryCrossentropy(from_logits=True),\n",
        "              metrics=['accuracy'])\n",
        "print(drop_model.summary())\n",
        "\n",
        "# callbacks\n",
        "def get_callbacks():\n",
        "  return tf.keras.callbacks.EarlyStopping(monitor='val_loss', patience=3)\n",
        "   \n",
        "# model train \n",
        "history['drop_model'] = drop_model.fit(train_dataset.shuffle(10000).batch(512),\n",
        "                    epochs=6,callbacks=get_callbacks(),\n",
        "                    validation_data=test_dataset.batch(512),\n",
        "                    verbose=1)"
      ],
      "metadata": {
        "colab": {
          "base_uri": "https://localhost:8080/"
        },
        "id": "L8sW98K3IgXF",
        "outputId": "69376918-5a2f-4ecd-d953-50b553ec0ea9"
      },
      "id": "L8sW98K3IgXF",
      "execution_count": 29,
      "outputs": [
        {
          "output_type": "stream",
          "name": "stdout",
          "text": [
            "Model: \"sequential_2\"\n",
            "_________________________________________________________________\n",
            " Layer (type)                Output Shape              Param #   \n",
            "=================================================================\n",
            " keras_layer (KerasLayer)    (None, 128)               124642688 \n",
            "                                                                 \n",
            " dense_12 (Dense)            (None, 256)               33024     \n",
            "                                                                 \n",
            " dense_13 (Dense)            (None, 128)               32896     \n",
            "                                                                 \n",
            " dense_14 (Dense)            (None, 64)                8256      \n",
            "                                                                 \n",
            " dense_15 (Dense)            (None, 32)                2080      \n",
            "                                                                 \n",
            " dense_16 (Dense)            (None, 16)                528       \n",
            "                                                                 \n",
            " dropout_2 (Dropout)         (None, 16)                0         \n",
            "                                                                 \n",
            " dense_17 (Dense)            (None, 1)                 17        \n",
            "                                                                 \n",
            "=================================================================\n",
            "Total params: 124,719,489\n",
            "Trainable params: 124,719,489\n",
            "Non-trainable params: 0\n",
            "_________________________________________________________________\n",
            "None\n",
            "Epoch 1/6\n",
            "2500/2500 [==============================] - 193s 77ms/step - loss: 0.4699 - accuracy: 0.8917 - val_loss: 0.6876 - val_accuracy: 0.7454\n",
            "Epoch 2/6\n",
            "2500/2500 [==============================] - 191s 77ms/step - loss: 0.3246 - accuracy: 0.9057 - val_loss: 0.7490 - val_accuracy: 0.7415\n",
            "Epoch 3/6\n",
            "2500/2500 [==============================] - 192s 77ms/step - loss: 0.3050 - accuracy: 0.9112 - val_loss: 0.7430 - val_accuracy: 0.7442\n",
            "Epoch 4/6\n",
            "2500/2500 [==============================] - 193s 77ms/step - loss: 0.2912 - accuracy: 0.9154 - val_loss: 0.7931 - val_accuracy: 0.7309\n"
          ]
        }
      ]
    },
    {
      "cell_type": "code",
      "source": [
        "# plot loss\n",
        "plot_loss(history['drop_model'])\n",
        "# plot accuracy\n",
        "plot_accuracy(history['drop_model'])"
      ],
      "metadata": {
        "colab": {
          "base_uri": "https://localhost:8080/",
          "height": 541
        },
        "id": "AUYR2ELAIgT_",
        "outputId": "1b794c8f-1d33-4133-f997-65db3ef685e2"
      },
      "id": "AUYR2ELAIgT_",
      "execution_count": 30,
      "outputs": [
        {
          "output_type": "display_data",
          "data": {
            "text/plain": [
              "<Figure size 432x288 with 1 Axes>"
            ],
            "image/png": "[encoded data removed]"
          },
          "metadata": {
            "needs_background": "light"
          }
        },
        {
          "output_type": "display_data",
          "data": {
            "text/plain": [
              "<Figure size 432x288 with 1 Axes>"
            ],
            "image/png": "[encoded data removed]"
          },
          "metadata": {
            "needs_background": "light"
          }
        }
      ]
    },
    {
      "cell_type": "code",
      "source": [
        "# final training loss\n",
        "print('final training loss:' ,{history['drop_model'].history[\"loss\"][-1]})\n",
        "# final training accuracy\n",
        "print('\\nfinal training accuracy:', {history['drop_model'].history[\"accuracy\"][-1]})\n",
        "# final validation loss\n",
        "print('\\nfinal validation loss: ',{history['drop_model'].history[\"val_loss\"][-1]})\n",
        "# final validation accuracy\n",
        "print('\\nfinal validation accuracy:', {history['drop_model'].history[\"val_accuracy\"][-1]})\n"
      ],
      "metadata": {
        "colab": {
          "base_uri": "https://localhost:8080/"
        },
        "id": "L89VWz0MIgQr",
        "outputId": "84db6675-4f23-485d-99d3-dee8274d9c61"
      },
      "id": "L89VWz0MIgQr",
      "execution_count": 31,
      "outputs": [
        {
          "output_type": "stream",
          "name": "stdout",
          "text": [
            "final training loss: {0.291187584400177}\n",
            "\n",
            "final training accuracy: {0.9153991937637329}\n",
            "\n",
            "final validation loss:  {0.7930750250816345}\n",
            "\n",
            "final validation accuracy: {0.7309156060218811}\n"
          ]
        }
      ]
    },
    {
      "cell_type": "code",
      "source": [
        "Y_test_pred_d = drop_model.predict(x_test)\n",
        "Y_test_pred_d=np.array([[1] if p>=0.5 else [0] for p in Y_test_pred_d])\n",
        "\n",
        "#classification_report\n",
        "print(classification_report(y_test_arr, Y_test_pred_d))"
      ],
      "metadata": {
        "colab": {
          "base_uri": "https://localhost:8080/"
        },
        "id": "hmbF5KPUIgMu",
        "outputId": "2109361e-8ca8-4a67-9edc-0c1ab947771a"
      },
      "id": "hmbF5KPUIgMu",
      "execution_count": 32,
      "outputs": [
        {
          "output_type": "stream",
          "name": "stdout",
          "text": [
            "              precision    recall  f1-score   support\n",
            "\n",
            "           0       0.72      0.75      0.74    160000\n",
            "           1       0.74      0.71      0.73    160000\n",
            "\n",
            "    accuracy                           0.73    320000\n",
            "   macro avg       0.73      0.73      0.73    320000\n",
            "weighted avg       0.73      0.73      0.73    320000\n",
            "\n"
          ]
        }
      ]
    },
    {
      "cell_type": "markdown",
      "source": [
        "\n",
        "\n",
        "*   Its seems that Model without regularizations are more prone to overfitting than with regularization.\n",
        "\n",
        "*   Dropout is a regularization method that approximates training a large number of neural networks .During training, some number of layer outputs are randomly ignored or “dropped out.” This has the effect of making the layer look-like and be treated-like a layer with a different number of nodes and connectivity to the prior layer. In effect, each update to a layer during training is performed with a different “view” of the configured layer.\n",
        "*   *It says that dropout is more effective than L 2 -norm for complex networks i.e., containing large numbers of hidden neurons. * .Here also we can see that changing the position and reducing the value of drop out rate has more effect on the result(more prone to overfit).\n"
      ],
      "metadata": {
        "id": "WjgxGbhEvOny"
      },
      "id": "WjgxGbhEvOny"
    },
    {
      "cell_type": "code",
      "source": [
        ""
      ],
      "metadata": {
        "id": "84RaumdGIgIf"
      },
      "id": "84RaumdGIgIf",
      "execution_count": null,
      "outputs": []
    },
    {
      "cell_type": "code",
      "source": [
        ""
      ],
      "metadata": {
        "id": "9JiPXUIHIgDP"
      },
      "id": "9JiPXUIHIgDP",
      "execution_count": null,
      "outputs": []
    },
    {
      "cell_type": "code",
      "source": [
        ""
      ],
      "metadata": {
        "id": "CXxSkOT_If9O"
      },
      "id": "CXxSkOT_If9O",
      "execution_count": null,
      "outputs": []
    },
    {
      "cell_type": "code",
      "source": [
        ""
      ],
      "metadata": {
        "id": "Or4u9K8yIf4N"
      },
      "id": "Or4u9K8yIf4N",
      "execution_count": null,
      "outputs": []
    },
    {
      "cell_type": "code",
      "source": [
        ""
      ],
      "metadata": {
        "id": "PCdDFsNnIfxi"
      },
      "id": "PCdDFsNnIfxi",
      "execution_count": null,
      "outputs": []
    },
    {
      "cell_type": "code",
      "source": [
        ""
      ],
      "metadata": {
        "id": "CNnkc8N1IfqZ"
      },
      "id": "CNnkc8N1IfqZ",
      "execution_count": null,
      "outputs": []
    },
    {
      "cell_type": "code",
      "source": [
        ""
      ],
      "metadata": {
        "id": "QCm0NmlEIfiS"
      },
      "id": "QCm0NmlEIfiS",
      "execution_count": null,
      "outputs": []
    },
    {
      "cell_type": "code",
      "source": [
        ""
      ],
      "metadata": {
        "id": "Dohdx9pUIfZj"
      },
      "id": "Dohdx9pUIfZj",
      "execution_count": null,
      "outputs": []
    }
  ],
  "metadata": {
    "kernelspec": {
      "display_name": "Python 3",
      "language": "python",
      "name": "python3"
    },
    "language_info": {
      "codemirror_mode": {
        "name": "ipython",
        "version": 3
      },
      "file_extension": ".py",
      "mimetype": "text/x-python",
      "name": "python",
      "nbconvert_exporter": "python",
      "pygments_lexer": "ipython3",
      "version": "3.7.10"
    },
    "colab": {
      "name": "Q1.ipynb",
      "provenance": [],
      "collapsed_sections": [
        "XSh4TEhAIefE",
        "EcsYYWpjJ_Dp",
        "6zlBPWiAMUrb",
        "APYt4mnpMaI2"
      ]
    },
    "accelerator": "GPU",
    "gpuClass": "standard"
  },
  "nbformat": 4,
  "nbformat_minor": 5
}